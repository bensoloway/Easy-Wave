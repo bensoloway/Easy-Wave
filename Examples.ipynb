{
 "cells": [
  {
   "cell_type": "code",
   "execution_count": 3,
   "metadata": {},
   "outputs": [],
   "source": [
    "# This is only to fix autocomplete in my version of Jupyter notebook.  Disregard if you don't have this problem\n",
    "# %config Completer.use_jedi = False\n",
    "\n",
    "# This is to allow the use pyqtgraph for plots\n",
    "%gui qt"
   ]
  },
  {
   "cell_type": "markdown",
   "metadata": {},
   "source": [
    "# Generating a waveform"
   ]
  },
  {
   "cell_type": "code",
   "execution_count": 53,
   "metadata": {},
   "outputs": [],
   "source": [
    "from easy_wave import AWG_Writer, Channel, REAL_CHANNELS\n",
    "from wave_library import *\n",
    "from visual_wave import plot_line\n",
    "\n",
    "# First let's give names to our channels\n",
    "chs = {\n",
    "    'sg1_i' : Channel.ch1_a,\n",
    "    'sg1_g' : Channel.ch1_m1,\n",
    "    'offres': Channel.ch1_m2,\n",
    "    \n",
    "    'sg1_q'  : Channel.ch2_a,\n",
    "    'lockin' : Channel.ch2_m1,\n",
    "    'readout': Channel.ch2_m2,\n",
    "    \n",
    "    'pico_trig': Channel.ch3_a,\n",
    "    'red'      : Channel.ch3_m1,\n",
    "    'rocket'   : Channel.ch3_m2,\n",
    "    \n",
    "    'res_analog': Channel.ch4_a,\n",
    "    'solar'     : Channel.ch4_m1,\n",
    "    'hyper'     : Channel.ch4_m2,\n",
    "}\n",
    "sg1_chs = [chs[x] for x in ['sg1_i','sg1_q', 'sg1_g']]"
   ]
  },
  {
   "cell_type": "code",
   "execution_count": 54,
   "metadata": {},
   "outputs": [
    {
     "name": "stdout",
     "output_type": "stream",
     "text": [
      "file generated\n",
      "opening ftp at 192.168.0.144\n",
      "uploaded\n"
     ]
    },
    {
     "data": {
      "text/plain": [
       "<easy_wave.AWG_Writer at 0x25df0822eb0>"
      ]
     },
     "execution_count": 54,
     "metadata": {},
     "output_type": "execute_result"
    }
   ],
   "source": [
    "# Creating some basic pulses\n",
    "mw = IQ_MW_Pulse(0.1e-6, *sg1_chs, freq_shift=100e6)\n",
    "init = Rect(t=2e-6, ch=chs['offres'])\n",
    "readout = Rect(t=3e-6, ch=chs['hyper'])\n",
    "delay = Zero(t=1e-6, ch=chs['offres'])\n",
    "\n",
    "#Create the sequence\n",
    "line = init + delay + mw + delay + readout + delay\n",
    "\n",
    "# Use AWG_Writer to write a file and send it via ftp\n",
    "writer = AWG_Writer()\n",
    "writer.add_line(line, 'test')\n",
    "writer.add_line(line, 'test')\n",
    "writer.generate_and_upload('192.168.0.144', 'temp/test2.awg')\n"
   ]
  },
  {
   "cell_type": "code",
   "execution_count": 55,
   "metadata": {},
   "outputs": [
    {
     "name": "stdout",
     "output_type": "stream",
     "text": [
      "(Rect + Zero + IQ_MW_Pulse + Zero + Rect + Zero)\n"
     ]
    },
    {
     "data": {
      "text/plain": [
       "<pyqtgraph.graphicsWindows.GraphicsWindow at 0x25df080bc10>"
      ]
     },
     "execution_count": 55,
     "metadata": {},
     "output_type": "execute_result"
    }
   ],
   "source": [
    "# Some possible manipulation of the waveform\n",
    "\n",
    "# Describe the waveform in text\n",
    "print(str(line))\n",
    "\n",
    "# Generate the numpy array\n",
    "ch = chs['sg1_i']\n",
    "ts, ys = line.generate(1e9, ch)\n",
    "\n",
    "# Some simple plotting\n",
    "import pyqtgraph as pg\n",
    "cs = lambda ch: ['y','b','p','g'][ch.value[0]-1]\n",
    "pg.plot(ts, ys, pen=cs(ch))\n",
    "\n",
    "#Alternativelly\n",
    "plot_line(writer, 1, plot_zeros=True)\n"
   ]
  },
  {
   "cell_type": "markdown",
   "metadata": {},
   "source": [
    "### New Waveform"
   ]
  },
  {
   "cell_type": "code",
   "execution_count": 77,
   "metadata": {},
   "outputs": [],
   "source": [
    "from easy_wave import AWG_Writer, Channel, REAL_CHANNELS\n",
    "from wave_library import *\n",
    "from visual_wave import plot_line\n",
    "\n",
    "# First let's give names to our channels\n",
    "chs = {\n",
    "    'sg1_i' : Channel.ch1_a,\n",
    "    'sg1_g' : Channel.ch1_m1,\n",
    "    'offres': Channel.ch1_m2,\n",
    "    \n",
    "    'sg1_q'  : Channel.ch2_a,\n",
    "    'lockin' : Channel.ch2_m1,\n",
    "    'readout': Channel.ch2_m2,\n",
    "    \n",
    "    'pico_trig': Channel.ch3_a,\n",
    "    'red'      : Channel.ch3_m1,\n",
    "    'rocket'   : Channel.ch3_m2,\n",
    "    \n",
    "    'res_analog': Channel.ch4_a,\n",
    "    'solar'     : Channel.ch4_m1,\n",
    "    'hyper'     : Channel.ch4_m2,\n",
    "}\n",
    "sg1_chs = [chs[x] for x in ['sg1_i','sg1_q', 'sg1_g']]"
   ]
  },
  {
   "cell_type": "code",
   "execution_count": 78,
   "metadata": {},
   "outputs": [
    {
     "name": "stdout",
     "output_type": "stream",
     "text": [
      "file generated\n",
      "opening ftp at 192.168.0.144\n",
      "uploaded\n"
     ]
    },
    {
     "data": {
      "text/plain": [
       "<easy_wave.AWG_Writer at 0x25defd0ac10>"
      ]
     },
     "execution_count": 78,
     "metadata": {},
     "output_type": "execute_result"
    }
   ],
   "source": [
    "# Creating some basic pulses\n",
    "delay = Zero(t=1e-6, ch=chs['offres'])\n",
    "test = Rect(t=3e-6, ch=chs['offres'])\n",
    "delay2 = Zero(t=0.5e-6, ch=chs['offres'])\n",
    "test2 = Rect(t=1.5e-6, ch=chs['offres'])\n",
    "\n",
    "\n",
    "#Create the sequence\n",
    "line = delay + test\n",
    "line2 = delay2 + test2 + delay2 + test2\n",
    "\n",
    "\n",
    "# Use AWG_Writer to write a file and send it via ftp\n",
    "writer = AWG_Writer()\n",
    "writer.add_line(line, '1 count')\n",
    "writer.add_line(line2, '2 counts')\n",
    "writer.generate_and_upload('192.168.0.144', 'temp/doubleCounts.awg')"
   ]
  },
  {
   "cell_type": "code",
   "execution_count": 80,
   "metadata": {},
   "outputs": [
    {
     "name": "stdout",
     "output_type": "stream",
     "text": [
      "(Zero + Rect)\n"
     ]
    },
    {
     "data": {
      "text/plain": [
       "<pyqtgraph.graphicsWindows.GraphicsWindow at 0x25dee68a280>"
      ]
     },
     "execution_count": 80,
     "metadata": {},
     "output_type": "execute_result"
    }
   ],
   "source": [
    "# Some possible manipulation of the waveform\n",
    "\n",
    "# Describe the waveform in text\n",
    "print(str(line))\n",
    "\n",
    "# Generate the numpy array\n",
    "ch = chs['sg1_i']\n",
    "ts, ys = line.generate(1e9, ch)\n",
    "\n",
    "# Some simple plotting\n",
    "import pyqtgraph as pg\n",
    "cs = lambda ch: ['y','b','p','g'][ch.value[0]-1]\n",
    "pg.plot(ts, ys, pen=cs(ch))\n",
    "\n",
    "#Alternativelly\n",
    "plot_line(writer, 1, plot_zeros=True)"
   ]
  },
  {
   "cell_type": "code",
   "execution_count": 74,
   "metadata": {},
   "outputs": [],
   "source": [
    "test = Zero(5,ch=chs['hyper'])"
   ]
  },
  {
   "cell_type": "code",
   "execution_count": 76,
   "metadata": {},
   "outputs": [
    {
     "name": "stdout",
     "output_type": "stream",
     "text": [
      "Zero\n"
     ]
    }
   ],
   "source": [
    "print(test)"
   ]
  },
  {
   "cell_type": "code",
   "execution_count": null,
   "metadata": {},
   "outputs": [],
   "source": []
  }
 ],
 "metadata": {
  "kernelspec": {
   "display_name": "Python 3",
   "language": "python",
   "name": "python3"
  },
  "language_info": {
   "codemirror_mode": {
    "name": "ipython",
    "version": 3
   },
   "file_extension": ".py",
   "mimetype": "text/x-python",
   "name": "python",
   "nbconvert_exporter": "python",
   "pygments_lexer": "ipython3",
   "version": "3.8.6"
  }
 },
 "nbformat": 4,
 "nbformat_minor": 4
}
