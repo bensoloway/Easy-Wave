{
 "cells": [
  {
   "cell_type": "code",
   "execution_count": 26,
   "metadata": {},
   "outputs": [],
   "source": [
    "# This is only to fix autocomplete in my version of Jupyter notebook.  Disregard if you don't have this problem\n",
    "# %config Completer.use_jedi = False\n",
    "\n",
    "# This is to allow the use pyqtgraph for plots\n",
    "%gui qt"
   ]
  },
  {
   "cell_type": "code",
   "execution_count": 27,
   "metadata": {},
   "outputs": [],
   "source": [
    "from easy_wave import Block_Writer, AWG_Writer, Channel, to_integer, PulseLengthError\n",
    "from wave_library import *\n",
    "from visual_wave import plot_line, plot_block\n",
    "from tqdm import tqdm_notebook\n",
    "\n",
    "from easy_wave import AWG_Writer, Channel, REAL_CHANNELS\n",
    "from wave_library import *\n",
    "from visual_wave import plot_line"
   ]
  },
  {
   "cell_type": "code",
   "execution_count": 28,
   "metadata": {},
   "outputs": [],
   "source": [
    "# First let's give names to our channels\n",
    "chs = {\n",
    "    'sg1_i' : Channel.ch1_a,\n",
    "    'sg1_g' : Channel.ch1_m1,\n",
    "    'offres': Channel.ch1_m2,\n",
    "    \n",
    "    'sg1_q'  : Channel.ch2_a,\n",
    "    'lockin' : Channel.ch2_m1,\n",
    "    'readout': Channel.ch2_m2,\n",
    "    \n",
    "    'pico_trig': Channel.ch3_a,\n",
    "    'red'      : Channel.ch3_m1,\n",
    "    'rocket'   : Channel.ch3_m2,\n",
    "    \n",
    "    'res_analog': Channel.ch4_a,\n",
    "    'solar'     : Channel.ch4_m1,\n",
    "    'hyper'     : Channel.ch4_m2,\n",
    "}\n",
    "sg1_chs = [chs[x] for x in ['sg1_i','sg1_q', 'sg1_g']]\n",
    "\n",
    "shifts = {\n",
    "            chs['solar']: -470e-9,\n",
    "            chs['offres']: -390e-9,\n",
    "        }\n",
    "\n",
    "working_dir = r\"2019-08 Isotopically Purified/\""
   ]
  },
  {
   "cell_type": "code",
   "execution_count": 29,
   "metadata": {},
   "outputs": [],
   "source": [
    "def basic_pulses(mw_pi = 100e-9, square_Ahpi=0.8888, init_time = 200e-6, readout_time = 100e-6,\n",
    "                 delay_time = 2e-6, init_laser = 'offres', read_laser = 'hyper', mw_buffer=50e-9):\n",
    "    \"\"\"These are a basic set of init, read and square mw pulses\"\"\"\n",
    "    init = Rect(t=init_time, ch=chs[init_laser])\n",
    "    readout  = Rect(t=readout_time, ch=chs[read_laser])\n",
    "    readout &= Rect(t=readout_time, ch=chs['readout'])\n",
    "    delay = Zero(t=delay_time, ch=Channel.no_ch)\n",
    "    wait = lambda _t: Zero(t=_t, ch=Channel.no_ch)\n",
    "    mw = lambda t, phase, A: IQ_MW_Pulse(t, *sg1_chs, phase=phase, A=A, freq_shift=0, mw_buffer=mw_buffer)\n",
    "    pi = lambda phase: mw(mw_pi, phase, 1)\n",
    "    hpi = lambda phase: mw(mw_pi/2, phase, square_Ahpi)\n",
    "    return init, readout, delay, wait, mw, pi, hpi  "
   ]
  },
  {
   "cell_type": "code",
   "execution_count": 30,
   "metadata": {},
   "outputs": [
    {
     "name": "stderr",
     "output_type": "stream",
     "text": [
      "<ipython-input-30-8801cb6dc94b>:5: TqdmDeprecationWarning: This function will be removed in tqdm==5.0.0\n",
      "Please use `tqdm.notebook.tqdm` instead of `tqdm.tqdm_notebook`\n",
      "  for i in tqdm_notebook(range(N)):\n"
     ]
    },
    {
     "data": {
      "application/vnd.jupyter.widget-view+json": {
       "model_id": "b302b186851a41348e4440b6dac7ca93",
       "version_major": 2,
       "version_minor": 0
      },
      "text/plain": [
       "HBox(children=(HTML(value=''), FloatProgress(value=0.0, max=10.0), HTML(value='')))"
      ]
     },
     "metadata": {},
     "output_type": "display_data"
    },
    {
     "name": "stdout",
     "output_type": "stream",
     "text": [
      "\n",
      "file generated\n",
      "opening ftp at 192.168.0.144\n",
      "uploaded\n"
     ]
    }
   ],
   "source": [
    "def gen(writer=AWG_Writer(shifts=shifts)):\n",
    "    pi_time = 100e-9\n",
    "    init, readout, delay, wait, mw, pi, hpi = basic_pulses(mw_pi=pi_time)\n",
    "    N, factor = 10, 10\n",
    "    for i in tqdm_notebook(range(N)):\n",
    "        number_of_pi = i*factor + 1\n",
    "        seq = (pi(0) + wait(pi_time))*number_of_pi\n",
    "        buffer = (pi(0).blank() + wait(pi_time))*(N*factor-number_of_pi)\n",
    "        line  = delay + init + delay + seq         + buffer + readout\n",
    "        line += delay + init + delay + seq.blank() + buffer + readout\n",
    "        line &= RectCycle(t=line.t, ch=chs['lockin'])\n",
    "        writer.add_line(line, 'Test i={} (pi={:.0f}ns)'.format(number_of_pi, pi_time/ 1e-9))\n",
    "    return writer\n",
    "writer = gen().generate_and_upload('192.168.0.144', 'temp/t1test.awg', rate=1e8, limits={})\n",
    "plt = plot_line(writer, 10)"
   ]
  },
  {
   "cell_type": "markdown",
   "metadata": {},
   "source": [
    "### T1 code with specified max and min delay times"
   ]
  },
  {
   "cell_type": "code",
   "execution_count": 23,
   "metadata": {},
   "outputs": [
    {
     "name": "stdout",
     "output_type": "stream",
     "text": [
      "the interpulse spacing increases linearly by 1e-05 seconds from line-to-line\n"
     ]
    },
    {
     "name": "stderr",
     "output_type": "stream",
     "text": [
      "<ipython-input-23-e43efeb19727>:15: TqdmDeprecationWarning: This function will be removed in tqdm==5.0.0\n",
      "Please use `tqdm.notebook.tqdm` instead of `tqdm.tqdm_notebook`\n",
      "  for i in tqdm_notebook(range(N)):\n"
     ]
    },
    {
     "data": {
      "application/vnd.jupyter.widget-view+json": {
       "model_id": "b3553aad09814c04b17da3588b492d6c",
       "version_major": 2,
       "version_minor": 0
      },
      "text/plain": [
       "HBox(children=(HTML(value=''), FloatProgress(value=0.0), HTML(value='')))"
      ]
     },
     "metadata": {},
     "output_type": "display_data"
    },
    {
     "name": "stdout",
     "output_type": "stream",
     "text": [
      "4.4e-05\n",
      "5.4e-05\n",
      "6.4e-05\n",
      "7.400000000000001e-05\n",
      "8.400000000000001e-05\n",
      "9.400000000000001e-05\n",
      "0.00010400000000000001\n",
      "0.000114\n",
      "0.000124\n",
      "0.000134\n",
      "0.000144\n",
      "0.000154\n",
      "0.00016400000000000003\n",
      "0.000174\n",
      "0.00018400000000000003\n",
      "0.000194\n",
      "0.00020400000000000003\n",
      "0.000214\n",
      "0.00022400000000000002\n",
      "0.000234\n",
      "0.00024400000000000002\n",
      "0.000254\n",
      "0.000264\n",
      "0.000274\n",
      "0.000284\n",
      "0.000294\n",
      "0.000304\n",
      "0.000314\n",
      "0.000324\n",
      "0.000334\n",
      "0.000344\n",
      "0.000354\n",
      "0.000364\n",
      "0.00037400000000000004\n",
      "0.000384\n",
      "0.00039400000000000004\n",
      "0.000404\n",
      "0.00041400000000000003\n",
      "0.000424\n",
      "0.00043400000000000003\n",
      "0.000444\n",
      "0.00045400000000000003\n",
      "0.000464\n",
      "0.00047400000000000003\n",
      "0.000484\n",
      "0.0004940000000000001\n",
      "0.000504\n",
      "0.000514\n",
      "0.000524\n",
      "0.0005340000000000001\n",
      "0.000544\n",
      "0.000554\n",
      "0.000564\n",
      "0.0005740000000000001\n",
      "0.000584\n",
      "0.000594\n",
      "0.000604\n",
      "0.0006140000000000001\n",
      "0.000624\n",
      "0.000634\n",
      "0.000644\n",
      "0.0006540000000000001\n",
      "0.000664\n",
      "0.000674\n",
      "0.000684\n",
      "0.0006940000000000001\n",
      "0.0007040000000000001\n",
      "0.000714\n",
      "0.000724\n",
      "0.0007340000000000001\n",
      "0.0007440000000000001\n",
      "0.000754\n",
      "0.000764\n",
      "0.0007740000000000001\n",
      "0.0007840000000000001\n",
      "0.000794\n",
      "0.000804\n",
      "0.000814\n",
      "0.0008240000000000001\n",
      "0.000834\n",
      "0.000844\n",
      "0.000854\n",
      "0.0008640000000000001\n",
      "0.0008740000000000001\n",
      "0.000884\n",
      "0.000894\n",
      "0.0009040000000000001\n",
      "0.0009140000000000001\n",
      "0.000924\n",
      "0.000934\n",
      "0.0009440000000000001\n",
      "0.0009540000000000001\n",
      "0.000964\n",
      "0.000974\n",
      "0.000984\n",
      "0.000994\n",
      "0.0010040000000000001\n",
      "0.0010140000000000001\n",
      "0.0010240000000000002\n",
      "0.001034\n",
      "\n",
      "file generated\n",
      "opening ftp at 192.168.0.144\n",
      "uploaded\n"
     ]
    }
   ],
   "source": [
    "def basic_pulses(init_time = 200e-6, readout_time = 100e-6, init_laser = 'offres', read_laser = 'hyper'):\n",
    "    init = Rect(t=init_time, ch=chs[init_laser])\n",
    "    readout  = Rect(t=readout_time, ch=chs[read_laser])\n",
    "    readout &= Rect(t=readout_time, ch=chs['readout'])  \n",
    "    return init, readout\n",
    "\n",
    "def t1(writer=AWG_Writer(shifts=shifts), N=100, min_delay = (0.22e-3)/5, max_delay = (0.22e-3)*5):\n",
    "    init, readout = basic_pulses()\n",
    "    factor = (max_delay - min_delay)/(N-1)\n",
    "    # round factor to the 8th decimal point so that the length of the delays\n",
    "    # are integer multiples of the AWG's time step\n",
    "    factor = round(factor,5) \n",
    "    \n",
    "    print(\"the interpulse spacing increases linearly by \" + str(factor) + \" seconds from line-to-line\")\n",
    "    for i in tqdm_notebook(range(N)):\n",
    "        # total time of sequence should always stay the same\n",
    "        # increasing_delay_time + decreasing_delay_time = max_delay\n",
    "        # Therefore total experiment time will be init_time*2 + max_delay + read_time*2\n",
    "        increasing_delay_time = i*factor + min_delay\n",
    "        decreasing_delay_time = (N-1)*factor + min_delay - increasing_delay_time\n",
    "        increasing_delay= Zero(t=increasing_delay_time, ch=chs['offres'])\n",
    "        decreasing_delay = Zero(t=decreasing_delay_time, ch=chs['offres'])\n",
    "        line = init + increasing_delay + readout\n",
    "        line += init + decreasing_delay + readout\n",
    "        #print(increasing_delay_time)\n",
    "        writer.add_line(line, 'Test i={} (idt={:.0f})'.format(i, increasing_delay_time))\n",
    "    return writer\n",
    "\n",
    "writer = t1().generate_and_upload('192.168.0.144', 'temp/t1.awg', rate=1e8, limits={})\n",
    "plt = plot_line(writer, 10)"
   ]
  },
  {
   "cell_type": "markdown",
   "metadata": {},
   "source": [
    "### T1 code with specified time increase"
   ]
  },
  {
   "cell_type": "code",
   "execution_count": 32,
   "metadata": {},
   "outputs": [
    {
     "name": "stderr",
     "output_type": "stream",
     "text": [
      "<ipython-input-32-3e28dc7ba197>:10: TqdmDeprecationWarning: This function will be removed in tqdm==5.0.0\n",
      "Please use `tqdm.notebook.tqdm` instead of `tqdm.tqdm_notebook`\n",
      "  for i in tqdm_notebook(range(N)):\n"
     ]
    },
    {
     "data": {
      "application/vnd.jupyter.widget-view+json": {
       "model_id": "1f438c64c328417c8193eb2a2174196a",
       "version_major": 2,
       "version_minor": 0
      },
      "text/plain": [
       "HBox(children=(HTML(value=''), FloatProgress(value=0.0), HTML(value='')))"
      ]
     },
     "metadata": {},
     "output_type": "display_data"
    },
    {
     "name": "stdout",
     "output_type": "stream",
     "text": [
      "\n",
      "file generated\n",
      "opening ftp at 192.168.0.144\n",
      "uploaded\n"
     ]
    },
    {
     "name": "stderr",
     "output_type": "stream",
     "text": [
      "<ipython-input-32-3e28dc7ba197>:25: RuntimeWarning: Visible window deleted. To prevent this, store a reference to the window object.\n",
      "  plt = plot_line(writer, 10)\n"
     ]
    }
   ],
   "source": [
    "def basic_pulses(init_time = 200e-6, readout_time = 100e-6, init_laser = 'offres', read_laser = 'hyper'):\n",
    "    init = Rect(t=init_time, ch=chs[init_laser])\n",
    "    readout  = Rect(t=readout_time, ch=chs[read_laser])\n",
    "    readout &= Rect(t=readout_time, ch=chs['readout'])  \n",
    "    return init, readout\n",
    "\n",
    "def t1(writer=AWG_Writer(shifts=shifts), N=100, min_delay = (0.22e-3)/5):\n",
    "    init, readout = basic_pulses()\n",
    "    factor = 0.01e-3 #the interpulse spacing increases linearly by *factor* seconds from line-to-line\n",
    "    for i in tqdm_notebook(range(N)):\n",
    "        # total time of sequence should always stay the same\n",
    "        # increasing_delay_time + decreasing_delay_time = max_delay\n",
    "        # Therefore total experiment time will be init_time*2 + max_delay + read_time*2\n",
    "        increasing_delay_time = i*factor + min_delay\n",
    "        decreasing_delay_time = (N-1)*factor + min_delay - increasing_delay_time\n",
    "        increasing_delay= Zero(t=increasing_delay_time, ch=chs['offres'])\n",
    "        decreasing_delay = Zero(t=decreasing_delay_time, ch=chs['offres'])\n",
    "        line = init + increasing_delay + readout\n",
    "        line += init + decreasing_delay + readout\n",
    "        #print(increasing_delay_time)\n",
    "        writer.add_line(line, 'Test i={} (idt={:.0f})'.format(i, increasing_delay_time))\n",
    "    return writer\n",
    "\n",
    "writer = t1().generate_and_upload('192.168.0.144', 'temp/t1.awg', rate=1e8, limits={})\n",
    "plt = plot_line(writer, 10)"
   ]
  },
  {
   "cell_type": "code",
   "execution_count": null,
   "metadata": {},
   "outputs": [],
   "source": []
  }
 ],
 "metadata": {
  "kernelspec": {
   "display_name": "Python 3",
   "language": "python",
   "name": "python3"
  },
  "language_info": {
   "codemirror_mode": {
    "name": "ipython",
    "version": 3
   },
   "file_extension": ".py",
   "mimetype": "text/x-python",
   "name": "python",
   "nbconvert_exporter": "python",
   "pygments_lexer": "ipython3",
   "version": "3.8.6"
  }
 },
 "nbformat": 4,
 "nbformat_minor": 4
}
