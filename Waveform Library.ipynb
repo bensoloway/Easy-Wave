{
 "cells": [
  {
   "cell_type": "code",
   "execution_count": null,
   "metadata": {},
   "outputs": [],
   "source": [
    "# This is only to fix autocomplete in my version of Jupyter notebook.  Disregard if you don't have this problem\n",
    "%config Completer.use_jedi = False\n",
    "\n",
    "# This is to allow the use pyqtgraph for plots\n",
    "%gui qt"
   ]
  },
  {
   "cell_type": "markdown",
   "metadata": {},
   "source": [
    "# Imports and config"
   ]
  },
  {
   "cell_type": "code",
   "execution_count": null,
   "metadata": {},
   "outputs": [],
   "source": [
    "from easy_wave import Block_Writer, AWG_Writer, Channel, to_integer, PulseLengthError\n",
    "from wave_library import *\n",
    "from visual_wave import plot_line, plot_block\n",
    "from tqdm import tqdm_notebook\n",
    "\n",
    "# First let's give names to our channels\n",
    "chs = {\n",
    "    'sg1_i' : Channel.ch1_a,\n",
    "    'sg1_g' : Channel.ch1_m1,\n",
    "    'offres': Channel.ch1_m2,\n",
    "    \n",
    "    'sg1_q'  : Channel.ch2_a,\n",
    "    'lockin' : Channel.ch2_m1,\n",
    "    'readout': Channel.ch2_m2,\n",
    "    \n",
    "    'pico_trig': Channel.ch3_a,\n",
    "    'red'      : Channel.ch3_m1,\n",
    "    'rocket'   : Channel.ch3_m2,\n",
    "    \n",
    "    'res_analog': Channel.ch4_a,\n",
    "    'solar'     : Channel.ch4_m1,\n",
    "    'hyper'     : Channel.ch4_m2,\n",
    "}\n",
    "sg1_chs = [chs[x] for x in ['sg1_i','sg1_q', 'sg1_g']]\n",
    "\n",
    "shifts = {\n",
    "            chs['solar']: -470e-9,\n",
    "            chs['offres']: -390e-9,\n",
    "        }\n",
    "\n",
    "working_dir = r\"2019-08 Isotopically Purified/\""
   ]
  },
  {
   "cell_type": "markdown",
   "metadata": {},
   "source": [
    "# Some common pulses sets"
   ]
  },
  {
   "cell_type": "code",
   "execution_count": null,
   "metadata": {},
   "outputs": [],
   "source": [
    "def basic_pulses(mw_pi = 100e-9, square_Ahpi=0.8888, init_time = 200e-6, readout_time = 100e-6,\n",
    "                 delay_time = 2e-6, init_laser = 'offres', read_laser = 'hyper', mw_buffer=50e-9):\n",
    "    \"\"\"These are a basic set of init, read and square mw pulses\"\"\"\n",
    "    init = Rect(t=init_time, ch=chs[init_laser])\n",
    "    readout  = Rect(t=readout_time, ch=chs[read_laser])\n",
    "    readout &= Rect(t=readout_time, ch=chs['readout'])\n",
    "    delay = Zero(t=delay_time, ch=Channel.no_ch)\n",
    "    wait = lambda _t: Zero(t=_t, ch=Channel.no_ch)\n",
    "    mw = lambda t, phase, A: IQ_MW_Pulse(t, *sg1_chs, phase=phase, A=A, freq_shift=0, mw_buffer=mw_buffer)\n",
    "    pi = lambda phase: mw(mw_pi, phase, 1)\n",
    "    hpi = lambda phase: mw(mw_pi/2, phase, square_Ahpi)\n",
    "    return init, readout, delay, wait, mw, pi, hpi  "
   ]
  },
  {
   "cell_type": "code",
   "execution_count": null,
   "metadata": {},
   "outputs": [],
   "source": [
    "def basic_compilled_pulses(rate, init_laser='offres', read_laser='hyper', init_time = 200e-6, readout_time = 100e-6, **kwargs):\n",
    "    \"\"\"These are a basic set of init, read and square mw pulses\"\"\"\n",
    "    init, readout, delay, wait, mw, pi, hpi = basic_pulses(**kwargs)\n",
    "    get_div = lambda name, time: to_integer(time*rate/250, PulseLengthError(\"{} time is not divisible by 250/rate\\n\\tpulse_time: {:.0f}ns \\n\\t250/rate: {:.0f}ns\".format(name ,time*1e9, 250/rate*1e9)))\n",
    "    \n",
    "    init_div = get_div('init', init_time)\n",
    "    init = Rect(t=init_time/init_div, ch=chs[init_laser])\n",
    "  \n",
    "    read_div = get_div('readout', readout_time)\n",
    "    def readout(hi_cycle):\n",
    "        line  = Rect(t=readout_time/read_div, ch=chs[read_laser])\n",
    "        line &= Rect(t=readout_time/read_div, ch=chs['readout'])\n",
    "        if hi_cycle:\n",
    "            line &= Rect(line.t, ch=chs['lockin'])\n",
    "        return line\n",
    "    \n",
    "    return init, readout, delay, wait, mw, pi, hpi, init_div, read_div"
   ]
  },
  {
   "cell_type": "markdown",
   "metadata": {
    "toc-hr-collapsed": false
   },
   "source": [
    "# Basic Waveforms and Calibrations"
   ]
  },
  {
   "cell_type": "markdown",
   "metadata": {},
   "source": [
    "## CW ODMR\n",
    "(untested)"
   ]
  },
  {
   "cell_type": "code",
   "execution_count": null,
   "metadata": {},
   "outputs": [],
   "source": [
    "def gen(writer=AWG_Writer(shifts=shifts)):\n",
    "    cycle_time = 1e-6\n",
    "    line = Rect(t=cycle_time, ch=chs['readout'])\n",
    "    line &= Rect(t=cycle_time, ch=chs['offres'])\n",
    "    for ch_name in ['sg1_i', 'sg1_g', 'lockin']:\n",
    "        line &= RectCycle(t=cycle_time, ch=chs[ch_name])\n",
    "    writer.add_line(line, 'odmr')\n",
    "    return writer\n",
    "writer = gen().generate_and_upload('192.168.1.101', working_dir + 'cw_odmr.awg', rate=1e9, limits={})\n",
    "plot_line(writer, 1)"
   ]
  },
  {
   "cell_type": "markdown",
   "metadata": {},
   "source": [
    "## Square Rabi"
   ]
  },
  {
   "cell_type": "code",
   "execution_count": null,
   "metadata": {},
   "outputs": [],
   "source": [
    "def gen(writer=AWG_Writer(shifts=shifts)):\n",
    "    taus = np.arange(0, 200e-9, 2e-9)\n",
    "    \n",
    "    init, readout, delay, wait, _mw, pi, hpi = basic_pulses()\n",
    "    mw = lambda tau: _mw(tau, 0, 1)\n",
    "    buffer = lambda tau: wait(max(taus)-tau)\n",
    "    for tau in tqdm_notebook(taus):\n",
    "        line  = init + delay + mw(tau)         + delay + readout + buffer(tau) + delay + delay\n",
    "        line += init + delay + mw(tau).blank() + delay + readout + buffer(tau) + delay + delay\n",
    "        line &= RectCycle(t=line.t, ch=chs['lockin'])\n",
    "        writer.add_line(line, 'resonant sq rabi {:.0f}ns'.format(tau / 1e-9))\n",
    "    return writer\n",
    "writer = gen().generate_and_upload('192.168.1.101', working_dir + 'square_rabi.awg', rate=5e8, limits={})\n",
    "plt = plot_line(writer, 10)"
   ]
  },
  {
   "cell_type": "markdown",
   "metadata": {
    "toc-hr-collapsed": true
   },
   "source": [
    "## Repeated Pi Calibration"
   ]
  },
  {
   "cell_type": "markdown",
   "metadata": {},
   "source": [
    "### Repeated Pi"
   ]
  },
  {
   "cell_type": "code",
   "execution_count": null,
   "metadata": {},
   "outputs": [],
   "source": [
    "def gen(writer=AWG_Writer(shifts=shifts)):\n",
    "    pi_time = 100e-9\n",
    "    init, readout, delay, wait, mw, pi, hpi = basic_pulses(mw_pi=pi_time)\n",
    "    N, factor = 10, 10\n",
    "    for i in tqdm_notebook(range(N)):\n",
    "        number_of_pi = i*factor + 1\n",
    "        seq = (pi(0) + wait(pi_time))*number_of_pi\n",
    "        buffer = (pi(0).blank() + wait(pi_time))*(N*factor-number_of_pi)\n",
    "        line  = delay + init + delay + seq         + buffer + readout\n",
    "        line += delay + init + delay + seq.blank() + buffer + readout\n",
    "        line &= RectCycle(t=line.t, ch=chs['lockin'])\n",
    "        writer.add_line(line, 'Test i={} (pi={:.0f}ns)'.format(number_of_pi, pi_time/ 1e-9))\n",
    "    return writer\n",
    "writer = gen().generate_and_upload('192.168.1.101', working_dir + 'repeated pi cal.awg', rate=1e8, limits={})\n",
    "plt = plot_line(writer, 10)"
   ]
  },
  {
   "cell_type": "markdown",
   "metadata": {},
   "source": [
    "### Repeated Half-Pi\n",
    "(untested)"
   ]
  },
  {
   "cell_type": "code",
   "execution_count": null,
   "metadata": {},
   "outputs": [],
   "source": [
    "def gen(writer=AWG_Writer(shifts=shifts)):\n",
    "    pi_time = 100e-9\n",
    "    init, readout, delay, wait, mw, pi, hpi = basic_pulses(mw_pi=pi_time, square_Ahpi=0.8888)\n",
    "    N, factor = 10, 10\n",
    "    for i in tqdm_notebook(range(N)):\n",
    "        number_of_hpi = 2*(i*factor + 1)\n",
    "        seq = (hpi(0) + wait(pi_time))*number_of_hpi\n",
    "        buffer = (pi(0).blank() + wait(pi_time))*(2*N*factor-number_of_pi)\n",
    "        line  = delay + init + delay + seq         + buffer + readout\n",
    "        line += delay + init + delay + seq.blank() + buffer + readout\n",
    "        line &= RectCycle(t=line.t, ch=chs['lockin'])\n",
    "        writer.add_line(line, 'Test i={} (pi={:.0f}ns)'.format(number_of_pi, pi_time/ 1e-9))\n",
    "    return writer\n",
    "writer = gen().generate_and_upload('192.168.1.101', working_dir + 'repeated pi cal.awg', rate=1e8, limits={})\n",
    "plt = plot_line(writer, 10)"
   ]
  },
  {
   "cell_type": "markdown",
   "metadata": {},
   "source": [
    "## Ramsey (T2*) / Hahn (T2)"
   ]
  },
  {
   "cell_type": "code",
   "execution_count": null,
   "metadata": {},
   "outputs": [],
   "source": [
    "def gen(writer=AWG_Writer(shifts=shifts), seq_type='hahn'):\n",
    "    init, readout, delay, wait, mw, pi, hpi = basic_pulses()\n",
    "    if seq_type == 'ramsey':\n",
    "        wait_seq = lambda t: wait(t)\n",
    "        taus = np.arange(0,200e-6, 1e-6)\n",
    "    elif seq_type == 'hahn':\n",
    "        wait_seq = lambda t: wait(t/2) + pi(90) + wait(t/2)\n",
    "        taus = np.arange(0,4000e-6, 40e-6)\n",
    "    \n",
    "    for t in tqdm_notebook(taus):\n",
    "        line  = delay + init + delay + hpi(0) + wait_seq(t) + hpi(0)   + delay + readout + wait(max(taus)-t)\n",
    "        line += delay + init + delay + hpi(0) + wait_seq(t) + hpi(180) + delay + readout + wait(max(taus)-t)\n",
    "        line &= RectCycle(t=line.t, ch=chs['lockin'])\n",
    "        writer.add_line(line, 'Coherence t={:.3f}us'.format(t*1e6))\n",
    "    writer.generate_and_upload('192.168.1.101', working_dir + '{}.awg'.format(seq_type), rate=2e7, limits={})\n",
    "    return writer\n",
    "writer = gen(seq_type='hahn')\n",
    "# plot_line(writer, 10)"
   ]
  },
  {
   "cell_type": "markdown",
   "metadata": {},
   "source": [
    "## PLE"
   ]
  },
  {
   "cell_type": "markdown",
   "metadata": {},
   "source": [
    "### PLE with Off-Res Init"
   ]
  },
  {
   "cell_type": "markdown",
   "metadata": {},
   "source": [
    "### CW-PLE with MW\n",
    "(untested)"
   ]
  },
  {
   "cell_type": "code",
   "execution_count": null,
   "metadata": {},
   "outputs": [],
   "source": [
    "res_laser='hyper'\n",
    "def gen(writer=AWG_Writer(shifts=shifts)):\n",
    "    cycle_time = 1e-6\n",
    "    line = Rect(t=cycle_time, ch=chs[res_laser])\n",
    "    for ch_name in ['sg1_i', 'sg1_g', 'readout']:\n",
    "        line &= Rect(t=cycle_time, ch=chs[ch_name])\n",
    "    writer.add_line(line, 'ple')\n",
    "    return writer\n",
    "writer = gen().generate_and_upload('192.168.1.101', working_dir + 'cw_mw_ple_{}.awg'.format(res_laser), rate=1e9, limits={})\n",
    "plot_line(writer, 1)"
   ]
  },
  {
   "cell_type": "markdown",
   "metadata": {},
   "source": [
    "# Weakly Coupled"
   ]
  },
  {
   "cell_type": "markdown",
   "metadata": {},
   "source": [
    "## XY8-N (compilled)"
   ]
  },
  {
   "cell_type": "code",
   "execution_count": null,
   "metadata": {},
   "outputs": [],
   "source": [
    "def gen(writer=Block_Writer(shifts=shifts), rate=1e8):\n",
    "    init, readout, delay, wait, mw, pi, hpi, init_div, read_div= basic_compilled_pulses(rate)\n",
    "    \n",
    "    N = 16\n",
    "    taus = np.arange(200e-9, 6e-6, 10e-9)\n",
    "    \n",
    "    #Define the XY8 sequence\n",
    "    def xy8(tau, loc='middle'):\n",
    "        x, y = pi(0), pi(90)\n",
    "        w = wait(tau-(x.t/2))\n",
    "        hw = wait(tau-x.t)\n",
    "        base = x+w + w+y+w + w+x+w + w+y+w + w+y+w + w+x+w + w+y+w + w+x\n",
    "        if loc == 'middle':  return w + base + w\n",
    "        elif loc == 'begin': return hw + base + w\n",
    "        elif loc == 'end':   return w + base + hw\n",
    "        else:  raise Exception(\"Unrecongnize loc!\")\n",
    "    \n",
    "    #Make the blocks\n",
    "    for tau in tqdm_notebook(taus):\n",
    "        writer.new_block('xy8-N tau={:.0f}ns'.format(tau*1e9))\n",
    "        lo, hi = ' (lo)', ' (hi)'\n",
    "        \n",
    "        #Lo cycle\n",
    "        writer.add_line(init,                               'init'+lo, repeat=init_div)\n",
    "        writer.add_line(hpi(90) + xy8(tau,'begin'),         'hpi_begin'+lo, repeat=1)\n",
    "        writer.add_line(xy8(tau,'middle'),                  'xy8'+lo, repeat=N-2)\n",
    "        writer.add_line(xy8(tau,'end') + hpi(90),           'hpi_end'+lo, repeat=1)\n",
    "        writer.add_line(readout(False),                     'read'+lo, repeat=read_div)\n",
    "        writer.add_line(wait((250/rate) + 16*(max(taus)-tau)), 'buffer'+lo, repeat=N)\n",
    "        \n",
    "        #Hi cycle\n",
    "        writer.add_line(init,                               'init'+hi, repeat=init_div)\n",
    "        writer.add_line(hpi(90) + xy8(tau,'begin'),         'hpi_begin'+hi, repeat=1)\n",
    "        writer.add_line(xy8(tau,'middle'),                  'xy8'+hi, repeat=N-2)\n",
    "        writer.add_line(xy8(tau,'end') + hpi(-90),          'hpi_end'+hi, repeat=1)\n",
    "        writer.add_line(readout(True),                      'read'+hi, repeat=read_div)\n",
    "        writer.add_line(wait((250/rate) + 16*(max(taus)-tau)), 'buffer'+hi, repeat=N)\n",
    "\n",
    "#     writer.generate_and_upload('192.168.1.101', working_dir + 'xy8-N.awg', rate=rate, limits={})\n",
    "    return writer\n",
    "writer = gen()\n",
    "writer.print_info()\n",
    "plot_block(writer, int(6960/12)-1)"
   ]
  },
  {
   "cell_type": "code",
   "execution_count": null,
   "metadata": {},
   "outputs": [],
   "source": [
    "from easy_wave import AWG_Writer, REAL_CHANNELS\n",
    "from wave_library import Empty\n",
    "import pyqtgraph as pg\n",
    "import time\n",
    "def plot_wave(wave, plot_zeros=True, downsample=10, downsample_mode='peak'):\n",
    "    win = pg.GraphicsWindow()\n",
    "    cs = lambda ch: ['y','b','#FF00FF','g'][ch.value[0]-1]\n",
    "    plt = win.addPlot()\n",
    "    plt.hideAxis('left')\n",
    "\n",
    "    # Optimize for large data\n",
    "    plt.setClipToView(True)\n",
    "    if downsample:\n",
    "        plt.setDownsampling(ds=downsample, auto=True, mode=downsample_mode)\n",
    "\n",
    "    start = time.time()\n",
    "    dy = 0\n",
    "    offset=3\n",
    "    for i,ch in enumerate(REAL_CHANNELS):\n",
    "        if ch in wave.chs or plot_zeros:\n",
    "            ts, ys = wave.generate(1e9, ch)\n",
    "            print(ys.shape)\n",
    "            ys = ys.astype(float) + dy\n",
    "            plt.plot(ts, ys, pen=cs(ch), fillLevel = dy, brush=(50,50,200,100))\n",
    "            dy -= offset\n",
    "            if plot_zeros and (i+1)%3==0:\n",
    "                dy-=1\n",
    "    print(time.time()-start)\n",
    "    \n",
    "    #Set to zooming limit\n",
    "    plt.vb.setLimits(yMax=1.5, yMin=dy, xMin=0, xMax=wave.t)\n",
    "                \n",
    "    # Add crosshair\n",
    "    label = pg.TextItem(\"t=0.000 us\", anchor=(0,0))\n",
    "\n",
    "    vLine = pg.InfiniteLine(angle=90, movable=False)\n",
    "    plt.addItem(vLine)\n",
    "    label.setParentItem(plt)\n",
    "    def mouseMoved(pos):\n",
    "        if plt.sceneBoundingRect().contains(pos):\n",
    "            mousePoint = plt.vb.mapSceneToView(pos)\n",
    "            if 0<mousePoint.x()<wave.t:\n",
    "                label.setText(\"t={:.3f} us\".format(mousePoint.x()*1e6))\n",
    "                vLine.setPos(mousePoint.x())\n",
    "#     proxy = pg.SignalProxy(plt_item.scene().sigMouseMoved, rateLimit=60, slot=mouseMoved)\n",
    "    plt.scene().sigMouseMoved.connect(mouseMoved)\n",
    "    \n",
    "    return win\n",
    "\n",
    "def plot_line(writer, line, plot_zeros=True, downsample=10, downsample_mode='peak'):\n",
    "    wave = writer.lines[line-1]['waveform']\n",
    "    return plot_wave(wave, plot_zeros=plot_zeros, downsample=downsample, downsample_mode=downsample_mode)\n",
    "\n",
    "def plot_block(writer, block, plot_zeros=True, downsample=10, downsample_mode='peak'):\n",
    "    if type(block) == int:\n",
    "        block_name = list(writer.blocks.keys())[block]\n",
    "    elif type(block) == str:\n",
    "        block_name = block\n",
    "    else:\n",
    "        raise Exception(\"Unrecongnize type for <block> to be plotted\")\n",
    "    b = writer.blocks[block_name]\n",
    "    wave = Empty()\n",
    "    for lname, line in b.items():\n",
    "        wave += line['waveform']*line['repeat']\n",
    "        \n",
    "    return plot_wave(wave, plot_zeros=plot_zeros, downsample=downsample, downsample_mode=downsample_mode)"
   ]
  },
  {
   "cell_type": "code",
   "execution_count": null,
   "metadata": {},
   "outputs": [],
   "source": [
    "%%time\n",
    "plot_block(writer, 10)"
   ]
  },
  {
   "cell_type": "code",
   "execution_count": null,
   "metadata": {},
   "outputs": [],
   "source": []
  }
 ],
 "metadata": {
  "kernelspec": {
   "display_name": "Python 3",
   "language": "python",
   "name": "python3"
  },
  "language_info": {
   "codemirror_mode": {
    "name": "ipython",
    "version": 3
   },
   "file_extension": ".py",
   "mimetype": "text/x-python",
   "name": "python",
   "nbconvert_exporter": "python",
   "pygments_lexer": "ipython3",
   "version": "3.8.6"
  },
  "toc-autonumbering": true,
  "toc-showcode": false,
  "toc-showmarkdowntxt": true
 },
 "nbformat": 4,
 "nbformat_minor": 2
}
